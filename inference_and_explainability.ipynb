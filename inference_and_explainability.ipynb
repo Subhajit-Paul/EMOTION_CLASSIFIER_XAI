{
  "cells": [
    {
      "cell_type": "markdown",
      "source": [
        "# Overview\n",
        "* Here we will load the trained model and test it wih custom inputs.\n",
        "* We will try to explain which feature is contributing the most when a particular emotion is predicted"
      ],
      "metadata": {
        "id": "JbGrPmIUjI41"
      },
      "id": "JbGrPmIUjI41"
    },
    {
      "cell_type": "markdown",
      "source": [
        "### 1.  Importing Libraries"
      ],
      "metadata": {
        "id": "w9g2Dvhvjlev"
      },
      "id": "w9g2Dvhvjlev"
    },
    {
      "cell_type": "code",
      "execution_count": 16,
      "id": "3ca545af-9339-4230-9798-34118ad4c9a5",
      "metadata": {
        "colab": {
          "base_uri": "https://localhost:8080/"
        },
        "id": "3ca545af-9339-4230-9798-34118ad4c9a5",
        "outputId": "1fc79146-8c35-48ee-cf70-3137821e5f0d"
      },
      "outputs": [
        {
          "output_type": "stream",
          "name": "stdout",
          "text": [
            "Requirement already satisfied: captum in /usr/local/lib/python3.10/dist-packages (0.7.0)\n",
            "Requirement already satisfied: matplotlib in /usr/local/lib/python3.10/dist-packages (from captum) (3.7.1)\n",
            "Requirement already satisfied: numpy in /usr/local/lib/python3.10/dist-packages (from captum) (1.23.5)\n",
            "Requirement already satisfied: torch>=1.6 in /usr/local/lib/python3.10/dist-packages (from captum) (2.1.0+cu118)\n",
            "Requirement already satisfied: tqdm in /usr/local/lib/python3.10/dist-packages (from captum) (4.66.1)\n",
            "Requirement already satisfied: filelock in /usr/local/lib/python3.10/dist-packages (from torch>=1.6->captum) (3.13.1)\n",
            "Requirement already satisfied: typing-extensions in /usr/local/lib/python3.10/dist-packages (from torch>=1.6->captum) (4.5.0)\n",
            "Requirement already satisfied: sympy in /usr/local/lib/python3.10/dist-packages (from torch>=1.6->captum) (1.12)\n",
            "Requirement already satisfied: networkx in /usr/local/lib/python3.10/dist-packages (from torch>=1.6->captum) (3.2.1)\n",
            "Requirement already satisfied: jinja2 in /usr/local/lib/python3.10/dist-packages (from torch>=1.6->captum) (3.1.2)\n",
            "Requirement already satisfied: fsspec in /usr/local/lib/python3.10/dist-packages (from torch>=1.6->captum) (2023.6.0)\n",
            "Requirement already satisfied: triton==2.1.0 in /usr/local/lib/python3.10/dist-packages (from torch>=1.6->captum) (2.1.0)\n",
            "Requirement already satisfied: contourpy>=1.0.1 in /usr/local/lib/python3.10/dist-packages (from matplotlib->captum) (1.2.0)\n",
            "Requirement already satisfied: cycler>=0.10 in /usr/local/lib/python3.10/dist-packages (from matplotlib->captum) (0.12.1)\n",
            "Requirement already satisfied: fonttools>=4.22.0 in /usr/local/lib/python3.10/dist-packages (from matplotlib->captum) (4.45.1)\n",
            "Requirement already satisfied: kiwisolver>=1.0.1 in /usr/local/lib/python3.10/dist-packages (from matplotlib->captum) (1.4.5)\n",
            "Requirement already satisfied: packaging>=20.0 in /usr/local/lib/python3.10/dist-packages (from matplotlib->captum) (23.2)\n",
            "Requirement already satisfied: pillow>=6.2.0 in /usr/local/lib/python3.10/dist-packages (from matplotlib->captum) (9.4.0)\n",
            "Requirement already satisfied: pyparsing>=2.3.1 in /usr/local/lib/python3.10/dist-packages (from matplotlib->captum) (3.1.1)\n",
            "Requirement already satisfied: python-dateutil>=2.7 in /usr/local/lib/python3.10/dist-packages (from matplotlib->captum) (2.8.2)\n",
            "Requirement already satisfied: six>=1.5 in /usr/local/lib/python3.10/dist-packages (from python-dateutil>=2.7->matplotlib->captum) (1.16.0)\n",
            "Requirement already satisfied: MarkupSafe>=2.0 in /usr/local/lib/python3.10/dist-packages (from jinja2->torch>=1.6->captum) (2.1.3)\n",
            "Requirement already satisfied: mpmath>=0.19 in /usr/local/lib/python3.10/dist-packages (from sympy->torch>=1.6->captum) (1.3.0)\n",
            "Drive already mounted at /content/drive/; to attempt to forcibly remount, call drive.mount(\"/content/drive/\", force_remount=True).\n"
          ]
        }
      ],
      "source": [
        "!pip install captum\n",
        "from captum.attr import LayerIntegratedGradients\n",
        "import torch\n",
        "import transformers\n",
        "from transformers import BertTokenizer\n",
        "import numpy as np\n",
        "from torch.utils.data import Dataset, DataLoader\n",
        "device = 'cuda' if torch.cuda.is_available() else 'cpu'\n",
        "from google.colab import drive\n",
        "drive.mount(\"/content/drive/\")\n",
        "import matplotlib.pyplot as plt\n",
        "import seaborn as sns"
      ]
    },
    {
      "cell_type": "markdown",
      "source": [
        "### 2. Intializing Parameters"
      ],
      "metadata": {
        "id": "wxHjc9KMjsiV"
      },
      "id": "wxHjc9KMjsiV"
    },
    {
      "cell_type": "code",
      "execution_count": 10,
      "id": "6f3b65d2-44b9-4bdb-97a6-a1ce0fd52583",
      "metadata": {
        "id": "6f3b65d2-44b9-4bdb-97a6-a1ce0fd52583"
      },
      "outputs": [],
      "source": [
        "MAX_LEN = 50\n",
        "TRAIN_BATCH_SIZE = 8\n",
        "EPOCHS = 1\n",
        "LEARNING_RATE = 1e-05\n",
        "tokenizer = BertTokenizer.from_pretrained('bert-base-multilingual-uncased')\n",
        "\n",
        "emotions_dict = {\n",
        "    0: 'admiration',\n",
        "    1: 'amusement',\n",
        "    2: 'anger',\n",
        "    3: 'annoyance',\n",
        "    4: 'approval',\n",
        "    5: 'caring',\n",
        "    6: 'confusion',\n",
        "    7: 'curiosity',\n",
        "    8: 'desire',\n",
        "    9: 'disappointment',\n",
        "    10: 'disapproval',\n",
        "    11: 'disgust',\n",
        "    12: 'embarrassment',\n",
        "    13: 'excitement',\n",
        "    14: 'fear',\n",
        "    15: 'gratitude',\n",
        "    16: 'grief',\n",
        "    17: 'joy',\n",
        "    18: 'love',\n",
        "    19: 'nervousness',\n",
        "    20: 'optimism',\n",
        "    21: 'pride',\n",
        "    22: 'realization',\n",
        "    23: 'relief',\n",
        "    24: 'remorse',\n",
        "    25: 'sadness',\n",
        "    26: 'surprise',\n",
        "    27: 'neutral'\n",
        "}"
      ]
    },
    {
      "cell_type": "markdown",
      "source": [
        "### 3.1. Defining Model class to load weights later"
      ],
      "metadata": {
        "id": "gjHNGa_Bjz9s"
      },
      "id": "gjHNGa_Bjz9s"
    },
    {
      "cell_type": "code",
      "execution_count": 3,
      "id": "26a6bd49-88aa-4d9d-8c73-396c96a62cc7",
      "metadata": {
        "colab": {
          "base_uri": "https://localhost:8080/",
          "height": 879,
          "referenced_widgets": [
            "58578938364f47089dafd1c0fdc9e0ec",
            "a38e61b9ac6e4124ac925feed4c7b696",
            "1496a1bc080a400dbe7c4e3772bad44c",
            "57a2eca8f7504fa0975afc62f2cc2bf4",
            "7ea3b57d761b41ec8c5bc9d8d51e1838",
            "139d4282a2b4483080dc07d2b94b46dd",
            "1a7fc1627860471ea1fe83a14b8034c7",
            "927c6b37182c402f9204f41a09de4060",
            "2a7d35c4f8134e8aafea193789aec07c",
            "53b20d8dcce240898e62e47c105386b3",
            "01780f7222484d8aa6b851c5370205e5"
          ]
        },
        "id": "26a6bd49-88aa-4d9d-8c73-396c96a62cc7",
        "outputId": "669c5cee-5aa5-421d-d62e-6363960802a5"
      },
      "outputs": [
        {
          "output_type": "display_data",
          "data": {
            "text/plain": [
              "model.safetensors:   0%|          | 0.00/672M [00:00<?, ?B/s]"
            ],
            "application/vnd.jupyter.widget-view+json": {
              "version_major": 2,
              "version_minor": 0,
              "model_id": "58578938364f47089dafd1c0fdc9e0ec"
            }
          },
          "metadata": {}
        },
        {
          "output_type": "execute_result",
          "data": {
            "text/plain": [
              "BERTClass(\n",
              "  (l1): BertModel(\n",
              "    (embeddings): BertEmbeddings(\n",
              "      (word_embeddings): Embedding(105879, 768, padding_idx=0)\n",
              "      (position_embeddings): Embedding(512, 768)\n",
              "      (token_type_embeddings): Embedding(2, 768)\n",
              "      (LayerNorm): LayerNorm((768,), eps=1e-12, elementwise_affine=True)\n",
              "      (dropout): Dropout(p=0.1, inplace=False)\n",
              "    )\n",
              "    (encoder): BertEncoder(\n",
              "      (layer): ModuleList(\n",
              "        (0-11): 12 x BertLayer(\n",
              "          (attention): BertAttention(\n",
              "            (self): BertSelfAttention(\n",
              "              (query): Linear(in_features=768, out_features=768, bias=True)\n",
              "              (key): Linear(in_features=768, out_features=768, bias=True)\n",
              "              (value): Linear(in_features=768, out_features=768, bias=True)\n",
              "              (dropout): Dropout(p=0.1, inplace=False)\n",
              "            )\n",
              "            (output): BertSelfOutput(\n",
              "              (dense): Linear(in_features=768, out_features=768, bias=True)\n",
              "              (LayerNorm): LayerNorm((768,), eps=1e-12, elementwise_affine=True)\n",
              "              (dropout): Dropout(p=0.1, inplace=False)\n",
              "            )\n",
              "          )\n",
              "          (intermediate): BertIntermediate(\n",
              "            (dense): Linear(in_features=768, out_features=3072, bias=True)\n",
              "            (intermediate_act_fn): GELUActivation()\n",
              "          )\n",
              "          (output): BertOutput(\n",
              "            (dense): Linear(in_features=3072, out_features=768, bias=True)\n",
              "            (LayerNorm): LayerNorm((768,), eps=1e-12, elementwise_affine=True)\n",
              "            (dropout): Dropout(p=0.1, inplace=False)\n",
              "          )\n",
              "        )\n",
              "      )\n",
              "    )\n",
              "    (pooler): BertPooler(\n",
              "      (dense): Linear(in_features=768, out_features=768, bias=True)\n",
              "      (activation): Tanh()\n",
              "    )\n",
              "  )\n",
              "  (l2): Dropout(p=0.3, inplace=False)\n",
              "  (l3): Linear(in_features=768, out_features=28, bias=True)\n",
              ")"
            ]
          },
          "metadata": {},
          "execution_count": 3
        }
      ],
      "source": [
        "class BERTClass(torch.nn.Module):\n",
        "    def __init__(self):\n",
        "        super(BERTClass, self).__init__()\n",
        "        self.l1 = transformers.BertModel.from_pretrained('bert-base-multilingual-uncased')\n",
        "        self.l2 = torch.nn.Dropout(0.3)\n",
        "        self.l3 = torch.nn.Linear(768, 28)\n",
        "\n",
        "    def forward(self, input_ids, mask, token_type_ids):\n",
        "        _, output_1= self.l1(input_ids = input_ids, attention_mask = mask, token_type_ids = token_type_ids, return_dict=False)\n",
        "        output_2 = self.l2(output_1)\n",
        "        output = self.l3(output_2)\n",
        "        return output\n",
        "\n",
        "model = BERTClass()\n",
        "model.to(device)"
      ]
    },
    {
      "cell_type": "markdown",
      "source": [
        "### 3.2. Loading the model with previously saved weights"
      ],
      "metadata": {
        "id": "EVqfAs7lkAKe"
      },
      "id": "EVqfAs7lkAKe"
    },
    {
      "cell_type": "code",
      "execution_count": 4,
      "id": "d2cc93b9-9d3e-4b53-83e9-a9805e3cca3f",
      "metadata": {
        "colab": {
          "base_uri": "https://localhost:8080/"
        },
        "id": "d2cc93b9-9d3e-4b53-83e9-a9805e3cca3f",
        "outputId": "df5b5989-1443-42c7-d0b6-4f8ac50a0a9c"
      },
      "outputs": [
        {
          "output_type": "execute_result",
          "data": {
            "text/plain": [
              "<All keys matched successfully>"
            ]
          },
          "metadata": {},
          "execution_count": 4
        }
      ],
      "source": [
        "model.load_state_dict(torch.load(\"/content/drive/MyDrive/NLP/model.pt\")) # if GPU\n",
        "# model.load_state_dict(torch.load(\"/content/drive/MyDrive/NLP/model.pt\"), map_location=torch.device('cpu')) # if CPU"
      ]
    },
    {
      "cell_type": "markdown",
      "source": [
        "### Preparing Custom Dataset for inference"
      ],
      "metadata": {
        "id": "PkVQ3h-ikJxA"
      },
      "id": "PkVQ3h-ikJxA"
    },
    {
      "cell_type": "code",
      "execution_count": 6,
      "id": "af6232d6-9e70-43b8-948d-6c0d8da6aa34",
      "metadata": {
        "id": "af6232d6-9e70-43b8-948d-6c0d8da6aa34"
      },
      "outputs": [],
      "source": [
        "class CustomDataset(Dataset):\n",
        "    def __init__(self, X, tokenizer, max_len):\n",
        "        self.tokenizer = tokenizer\n",
        "        self.text = X\n",
        "        self.max_len = max_len\n",
        "\n",
        "    def __len__(self):\n",
        "        return len(self.text)\n",
        "\n",
        "    def __getitem__(self, index):\n",
        "        text = str(self.text[index])\n",
        "        text = \" \".join(text.split())\n",
        "\n",
        "        inputs = self.tokenizer.encode_plus(\n",
        "            text,\n",
        "            None,\n",
        "            add_special_tokens=True,\n",
        "            max_length=self.max_len,\n",
        "            padding='max_length',\n",
        "            return_token_type_ids=True\n",
        "        )\n",
        "        ids = inputs['input_ids']\n",
        "        mask = inputs['attention_mask']\n",
        "        token_type_ids = inputs[\"token_type_ids\"]\n",
        "\n",
        "\n",
        "        return {\n",
        "            'ids': torch.tensor(ids, dtype=torch.long),\n",
        "            'mask': torch.tensor(mask, dtype=torch.long),\n",
        "            'token_type_ids': torch.tensor(token_type_ids, dtype=torch.long)\n",
        "        }"
      ]
    },
    {
      "cell_type": "code",
      "execution_count": 7,
      "id": "c693f0d3-35ba-4516-8228-f4236a5e1d80",
      "metadata": {
        "id": "c693f0d3-35ba-4516-8228-f4236a5e1d80"
      },
      "outputs": [],
      "source": [
        "data = CustomDataset([\"I can only give one thing that is my heart\"], tokenizer, MAX_LEN)\n",
        "infer = DataLoader(data)"
      ]
    },
    {
      "cell_type": "markdown",
      "source": [
        "### 4. Testing with a custom `input_text` to predict an emotion"
      ],
      "metadata": {
        "id": "iFy6rM3xkS3o"
      },
      "id": "iFy6rM3xkS3o"
    },
    {
      "cell_type": "code",
      "execution_count": 8,
      "id": "eab89700-7c23-4e37-9837-f2c0083a9917",
      "metadata": {
        "id": "eab89700-7c23-4e37-9837-f2c0083a9917"
      },
      "outputs": [],
      "source": [
        "for _, data in enumerate(infer):\n",
        "    ids = data['ids'].to(device, dtype = torch.long)\n",
        "    mask = data['mask'].to(device, dtype = torch.long)\n",
        "    token_type_ids = data['token_type_ids'].to(device, dtype = torch.long)\n",
        "    with torch.inference_mode():\n",
        "        outputs = model(ids, mask, token_type_ids)"
      ]
    },
    {
      "cell_type": "code",
      "execution_count": 14,
      "id": "94d1c094-536e-4e70-9301-6aadec5d5b1c",
      "metadata": {
        "colab": {
          "base_uri": "https://localhost:8080/"
        },
        "id": "94d1c094-536e-4e70-9301-6aadec5d5b1c",
        "outputId": "49d63f58-ed5b-49e6-dafd-1f10963dc955"
      },
      "outputs": [
        {
          "output_type": "stream",
          "name": "stdout",
          "text": [
            "Predicted Emotion : Neutral\n"
          ]
        }
      ],
      "source": [
        "print(f\"Predicted Emotion : {emotions_dict[torch.argmax(outputs[0]).item()].capitalize()}\")"
      ]
    },
    {
      "cell_type": "markdown",
      "source": [
        "### 5. Explain the prediction results with `Saliency Map`\n",
        "Here we will\n",
        "- Define the baseline (reference) for integrated gradients\n",
        "- Instantiate the `LayerIntegratedGradients` object to find the gradient against a feature from last layer of the model\n",
        "- Plot the saliency map using a heatmap\n",
        "---\n",
        "- Refer to [here](https://https://santiagof.medium.com/model-interpretability-making-your-model-confesses-saliency-maps-5b14c1e04f9e#:~:text=The%20idea%20behind%20the%20saliency,the%20distribution%20of%20such%20activity.) to know more about `Saliency Maps`"
      ],
      "metadata": {
        "id": "wyB3cwPWklw8"
      },
      "id": "wyB3cwPWklw8"
    },
    {
      "cell_type": "code",
      "source": [
        "tokens = tokenizer.encode_plus(\"I can only give one thing that is my heart\", return_tensors='pt', add_special_tokens=True)\n",
        "input_ids = tokens['input_ids'].to(device)\n",
        "attention_mask = tokens['attention_mask'].to(device)\n",
        "token_type_ids = tokens['token_type_ids'].to(device)\n",
        "\n",
        "ref_token_id = tokenizer.pad_token_id\n",
        "ref_input_ids = torch.tensor([[ref_token_id] * input_ids.shape[1]]).to(device)\n",
        "\n",
        "lig = LayerIntegratedGradients(model, model.l1.embeddings)\n",
        "\n",
        "tar = range(28)\n",
        "attributions = [lig.attribute(inputs=(input_ids, attention_mask, token_type_ids),\n",
        "                                    baselines=(ref_input_ids, torch.zeros_like(attention_mask), torch.zeros_like(token_type_ids)),\n",
        "                                    target=i).squeeze(0).detach().cpu().numpy().sum(axis=1) for i in tar]\n",
        "\n",
        "ticky = ['admiration', 'amusement', 'anger', 'annoyance', 'approval', 'caring', 'confusion', 'curiosity', 'desire', 'disappointment', 'disapproval', 'disgust', 'embarrassment', 'excitement', 'fear', 'gratitude', 'grief', 'joy', 'love', 'nervousness', 'optimism', 'pride', 'realization', 'relief', 'remorse', 'sadness', 'surprise', 'neutral']\n",
        "\n",
        "plt.figure(figsize=(10, 8))\n",
        "sns.heatmap(attributions, xticklabels=[tokenizer.decode(token_id).replace(\" \", \"\") for token_id in tokens['input_ids'][0]], cmap=\"viridis\", yticklabels=ticky)\n",
        "plt.title('Saliency Map')\n",
        "plt.show()"
      ],
      "metadata": {
        "colab": {
          "base_uri": "https://localhost:8080/",
          "height": 699
        },
        "id": "fMJ7oet5hRgc",
        "outputId": "77c31194-20d2-4838-d035-6a51f4af873e"
      },
      "id": "fMJ7oet5hRgc",
      "execution_count": 19,
      "outputs": [
        {
          "output_type": "display_data",
          "data": {
            "text/plain": [
              "<Figure size 1000x800 with 2 Axes>"
            ],
            "image/png": "[encoded data removed]"
          },
          "metadata": {}
        }
      ]
    },
    {
      "cell_type": "code",
      "source": [],
      "metadata": {
        "id": "F9FHNPd6iUdZ"
      },
      "id": "F9FHNPd6iUdZ",
      "execution_count": null,
      "outputs": []
    }
  ],
  "metadata": {
    "kernelspec": {
      "display_name": "Python 3",
      "name": "python3"
    },
    "language_info": {
      "codemirror_mode": {
        "name": "ipython",
        "version": 3
      },
      "file_extension": ".py",
      "mimetype": "text/x-python",
      "name": "python",
      "nbconvert_exporter": "python",
      "pygments_lexer": "ipython3",
      "version": "3.11.4"
    },
    "colab": {
      "provenance": [],
      "gpuType": "T4"
    },
    "accelerator": "GPU",
    "widgets": {
      "application/vnd.jupyter.widget-state+json": {
        "58578938364f47089dafd1c0fdc9e0ec": {
          "model_module": "@jupyter-widgets/controls",
          "model_name": "HBoxModel",
          "model_module_version": "1.5.0",
          "state": {
            "_dom_classes": [],
            "_model_module": "@jupyter-widgets/controls",
            "_model_module_version": "1.5.0",
            "_model_name": "HBoxModel",
            "_view_count": null,
            "_view_module": "@jupyter-widgets/controls",
            "_view_module_version": "1.5.0",
            "_view_name": "HBoxView",
            "box_style": "",
            "children": [
              "IPY_MODEL_a38e61b9ac6e4124ac925feed4c7b696",
              "IPY_MODEL_1496a1bc080a400dbe7c4e3772bad44c",
              "IPY_MODEL_57a2eca8f7504fa0975afc62f2cc2bf4"
            ],
            "layout": "IPY_MODEL_7ea3b57d761b41ec8c5bc9d8d51e1838"
          }
        },
        "a38e61b9ac6e4124ac925feed4c7b696": {
          "model_module": "@jupyter-widgets/controls",
          "model_name": "HTMLModel",
          "model_module_version": "1.5.0",
          "state": {
            "_dom_classes": [],
            "_model_module": "@jupyter-widgets/controls",
            "_model_module_version": "1.5.0",
            "_model_name": "HTMLModel",
            "_view_count": null,
            "_view_module": "@jupyter-widgets/controls",
            "_view_module_version": "1.5.0",
            "_view_name": "HTMLView",
            "description": "",
            "description_tooltip": null,
            "layout": "IPY_MODEL_139d4282a2b4483080dc07d2b94b46dd",
            "placeholder": "​",
            "style": "IPY_MODEL_1a7fc1627860471ea1fe83a14b8034c7",
            "value": "model.safetensors: 100%"
          }
        },
        "1496a1bc080a400dbe7c4e3772bad44c": {
          "model_module": "@jupyter-widgets/controls",
          "model_name": "FloatProgressModel",
          "model_module_version": "1.5.0",
          "state": {
            "_dom_classes": [],
            "_model_module": "@jupyter-widgets/controls",
            "_model_module_version": "1.5.0",
            "_model_name": "FloatProgressModel",
            "_view_count": null,
            "_view_module": "@jupyter-widgets/controls",
            "_view_module_version": "1.5.0",
            "_view_name": "ProgressView",
            "bar_style": "success",
            "description": "",
            "description_tooltip": null,
            "layout": "IPY_MODEL_927c6b37182c402f9204f41a09de4060",
            "max": 672247920,
            "min": 0,
            "orientation": "horizontal",
            "style": "IPY_MODEL_2a7d35c4f8134e8aafea193789aec07c",
            "value": 672247920
          }
        },
        "57a2eca8f7504fa0975afc62f2cc2bf4": {
          "model_module": "@jupyter-widgets/controls",
          "model_name": "HTMLModel",
          "model_module_version": "1.5.0",
          "state": {
            "_dom_classes": [],
            "_model_module": "@jupyter-widgets/controls",
            "_model_module_version": "1.5.0",
            "_model_name": "HTMLModel",
            "_view_count": null,
            "_view_module": "@jupyter-widgets/controls",
            "_view_module_version": "1.5.0",
            "_view_name": "HTMLView",
            "description": "",
            "description_tooltip": null,
            "layout": "IPY_MODEL_53b20d8dcce240898e62e47c105386b3",
            "placeholder": "​",
            "style": "IPY_MODEL_01780f7222484d8aa6b851c5370205e5",
            "value": " 672M/672M [00:06&lt;00:00, 115MB/s]"
          }
        },
        "7ea3b57d761b41ec8c5bc9d8d51e1838": {
          "model_module": "@jupyter-widgets/base",
          "model_name": "LayoutModel",
          "model_module_version": "1.2.0",
          "state": {
            "_model_module": "@jupyter-widgets/base",
            "_model_module_version": "1.2.0",
            "_model_name": "LayoutModel",
            "_view_count": null,
            "_view_module": "@jupyter-widgets/base",
            "_view_module_version": "1.2.0",
            "_view_name": "LayoutView",
            "align_content": null,
            "align_items": null,
            "align_self": null,
            "border": null,
            "bottom": null,
            "display": null,
            "flex": null,
            "flex_flow": null,
            "grid_area": null,
            "grid_auto_columns": null,
            "grid_auto_flow": null,
            "grid_auto_rows": null,
            "grid_column": null,
            "grid_gap": null,
            "grid_row": null,
            "grid_template_areas": null,
            "grid_template_columns": null,
            "grid_template_rows": null,
            "height": null,
            "justify_content": null,
            "justify_items": null,
            "left": null,
            "margin": null,
            "max_height": null,
            "max_width": null,
            "min_height": null,
            "min_width": null,
            "object_fit": null,
            "object_position": null,
            "order": null,
            "overflow": null,
            "overflow_x": null,
            "overflow_y": null,
            "padding": null,
            "right": null,
            "top": null,
            "visibility": null,
            "width": null
          }
        },
        "139d4282a2b4483080dc07d2b94b46dd": {
          "model_module": "@jupyter-widgets/base",
          "model_name": "LayoutModel",
          "model_module_version": "1.2.0",
          "state": {
            "_model_module": "@jupyter-widgets/base",
            "_model_module_version": "1.2.0",
            "_model_name": "LayoutModel",
            "_view_count": null,
            "_view_module": "@jupyter-widgets/base",
            "_view_module_version": "1.2.0",
            "_view_name": "LayoutView",
            "align_content": null,
            "align_items": null,
            "align_self": null,
            "border": null,
            "bottom": null,
            "display": null,
            "flex": null,
            "flex_flow": null,
            "grid_area": null,
            "grid_auto_columns": null,
            "grid_auto_flow": null,
            "grid_auto_rows": null,
            "grid_column": null,
            "grid_gap": null,
            "grid_row": null,
            "grid_template_areas": null,
            "grid_template_columns": null,
            "grid_template_rows": null,
            "height": null,
            "justify_content": null,
            "justify_items": null,
            "left": null,
            "margin": null,
            "max_height": null,
            "max_width": null,
            "min_height": null,
            "min_width": null,
            "object_fit": null,
            "object_position": null,
            "order": null,
            "overflow": null,
            "overflow_x": null,
            "overflow_y": null,
            "padding": null,
            "right": null,
            "top": null,
            "visibility": null,
            "width": null
          }
        },
        "1a7fc1627860471ea1fe83a14b8034c7": {
          "model_module": "@jupyter-widgets/controls",
          "model_name": "DescriptionStyleModel",
          "model_module_version": "1.5.0",
          "state": {
            "_model_module": "@jupyter-widgets/controls",
            "_model_module_version": "1.5.0",
            "_model_name": "DescriptionStyleModel",
            "_view_count": null,
            "_view_module": "@jupyter-widgets/base",
            "_view_module_version": "1.2.0",
            "_view_name": "StyleView",
            "description_width": ""
          }
        },
        "927c6b37182c402f9204f41a09de4060": {
          "model_module": "@jupyter-widgets/base",
          "model_name": "LayoutModel",
          "model_module_version": "1.2.0",
          "state": {
            "_model_module": "@jupyter-widgets/base",
            "_model_module_version": "1.2.0",
            "_model_name": "LayoutModel",
            "_view_count": null,
            "_view_module": "@jupyter-widgets/base",
            "_view_module_version": "1.2.0",
            "_view_name": "LayoutView",
            "align_content": null,
            "align_items": null,
            "align_self": null,
            "border": null,
            "bottom": null,
            "display": null,
            "flex": null,
            "flex_flow": null,
            "grid_area": null,
            "grid_auto_columns": null,
            "grid_auto_flow": null,
            "grid_auto_rows": null,
            "grid_column": null,
            "grid_gap": null,
            "grid_row": null,
            "grid_template_areas": null,
            "grid_template_columns": null,
            "grid_template_rows": null,
            "height": null,
            "justify_content": null,
            "justify_items": null,
            "left": null,
            "margin": null,
            "max_height": null,
            "max_width": null,
            "min_height": null,
            "min_width": null,
            "object_fit": null,
            "object_position": null,
            "order": null,
            "overflow": null,
            "overflow_x": null,
            "overflow_y": null,
            "padding": null,
            "right": null,
            "top": null,
            "visibility": null,
            "width": null
          }
        },
        "2a7d35c4f8134e8aafea193789aec07c": {
          "model_module": "@jupyter-widgets/controls",
          "model_name": "ProgressStyleModel",
          "model_module_version": "1.5.0",
          "state": {
            "_model_module": "@jupyter-widgets/controls",
            "_model_module_version": "1.5.0",
            "_model_name": "ProgressStyleModel",
            "_view_count": null,
            "_view_module": "@jupyter-widgets/base",
            "_view_module_version": "1.2.0",
            "_view_name": "StyleView",
            "bar_color": null,
            "description_width": ""
          }
        },
        "53b20d8dcce240898e62e47c105386b3": {
          "model_module": "@jupyter-widgets/base",
          "model_name": "LayoutModel",
          "model_module_version": "1.2.0",
          "state": {
            "_model_module": "@jupyter-widgets/base",
            "_model_module_version": "1.2.0",
            "_model_name": "LayoutModel",
            "_view_count": null,
            "_view_module": "@jupyter-widgets/base",
            "_view_module_version": "1.2.0",
            "_view_name": "LayoutView",
            "align_content": null,
            "align_items": null,
            "align_self": null,
            "border": null,
            "bottom": null,
            "display": null,
            "flex": null,
            "flex_flow": null,
            "grid_area": null,
            "grid_auto_columns": null,
            "grid_auto_flow": null,
            "grid_auto_rows": null,
            "grid_column": null,
            "grid_gap": null,
            "grid_row": null,
            "grid_template_areas": null,
            "grid_template_columns": null,
            "grid_template_rows": null,
            "height": null,
            "justify_content": null,
            "justify_items": null,
            "left": null,
            "margin": null,
            "max_height": null,
            "max_width": null,
            "min_height": null,
            "min_width": null,
            "object_fit": null,
            "object_position": null,
            "order": null,
            "overflow": null,
            "overflow_x": null,
            "overflow_y": null,
            "padding": null,
            "right": null,
            "top": null,
            "visibility": null,
            "width": null
          }
        },
        "01780f7222484d8aa6b851c5370205e5": {
          "model_module": "@jupyter-widgets/controls",
          "model_name": "DescriptionStyleModel",
          "model_module_version": "1.5.0",
          "state": {
            "_model_module": "@jupyter-widgets/controls",
            "_model_module_version": "1.5.0",
            "_model_name": "DescriptionStyleModel",
            "_view_count": null,
            "_view_module": "@jupyter-widgets/base",
            "_view_module_version": "1.2.0",
            "_view_name": "StyleView",
            "description_width": ""
          }
        }
      }
    }
  },
  "nbformat": 4,
  "nbformat_minor": 5
}